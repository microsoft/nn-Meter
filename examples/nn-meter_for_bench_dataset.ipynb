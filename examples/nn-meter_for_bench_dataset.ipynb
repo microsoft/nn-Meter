{
 "cells": [
  {
   "cell_type": "markdown",
   "source": [
    "# Use nn-Meter for Bench Dataset\n",
    "In this notebook, we showed nn-Meter examples of latency prediction for bench dataset."
   ],
   "metadata": {}
  },
  {
   "cell_type": "code",
   "execution_count": 1,
   "source": [
    "import os\n",
    "import nn_meter\n",
    "from nn_meter.dataset import bench_dataset\n",
    "\n",
    "datasets = bench_dataset()\n",
    "for data in datasets:\n",
    "    print(os.path.basename(data))"
   ],
   "outputs": [
    {
     "output_type": "stream",
     "name": "stderr",
     "text": [
      "100%|██████████| 115M/115M [00:11<00:00, 10.3MiB/s]"
     ]
    },
    {
     "output_type": "stream",
     "name": "stdout",
     "text": [
      "alexnets.jsonl\n",
      "nasbench201s.jsonl\n",
      "mobilenetv3s.jsonl\n",
      "resnets.jsonl\n",
      "mobilenetv1s.jsonl\n",
      "mobilenetv2s.jsonl\n",
      "proxylessnass.jsonl\n",
      "vggs.jsonl\n",
      "shufflenetv2s.jsonl\n",
      "squeezenets.jsonl\n",
      "mnasnets.jsonl\n",
      "densenets.jsonl\n",
      "googlenets.jsonl\n"
     ]
    },
    {
     "output_type": "stream",
     "name": "stderr",
     "text": [
      "\n"
     ]
    }
   ],
   "metadata": {}
  },
  {
   "cell_type": "code",
   "execution_count": 10,
   "source": [
    "# dataset schema: for each model, we store the: model id, graph in nn-meter IR graph format, latency numbers on four devices\n",
    "import jsonlines\n",
    "test_data = datasets[0]\n",
    "with jsonlines.open(test_data) as data_reader:\n",
    "    True_lat = []\n",
    "    Pred_lat = []\n",
    "    for i, item in enumerate(data_reader):\n",
    "        print('dict keys:',list(item.keys()))\n",
    "        print('model id',item['id'])\n",
    "        print('cpu latency',item['cortexA76cpu_tflite21'])\n",
    "        print('adreno640gpu latency',item['adreno640gpu_tflite21'])\n",
    "        print('adreno630gpu latency',item['adreno630gpu_tflite21'])\n",
    "        print('intelvpu latency',item['myriadvpu_openvino2019r2'])\n",
    "        print('model graph is stored in nn-meter IR:',item['graph'])\n",
    "        break"
   ],
   "outputs": [
    {
     "output_type": "stream",
     "name": "stdout",
     "text": [
      "dict keys: ['id', 'cortexA76cpu_tflite21', 'adreno640gpu_tflite21', 'adreno630gpu_tflite21', 'myriadvpu_openvino2019r2', 'graph']\n",
      "model id alexnet_1356\n",
      "cpu latency 148.164\n",
      "adreno640gpu latency 24.4851\n",
      "adreno630gpu latency 31.932404999999996\n",
      "intelvpu latency 15.486\n",
      "model graph is stored in nn-meter IR: {'input_im_0': {'inbounds': [], 'attr': {'name': 'input_im_0', 'type': 'Placeholder', 'output_shape': [[1, 224, 224, 3]], 'attr': {'shape': [1, 224, 224, 3]}, 'input_shape': []}, 'outbounds': ['conv1.conv/Conv2D']}, 'conv1.conv/Conv2D': {'inbounds': ['input_im_0'], 'attr': {'name': 'conv1.conv/Conv2D', 'type': 'Conv2D', 'output_shape': [[1, 56, 56, 63]], 'attr': {'dilations': [1, 1], 'strides': [4, 4], 'data_format': 'NHWC', 'padding': 'VALID', 'kernel_shape': [7, 7], 'weight_shape': [7, 7, 3, 63], 'pads': [0, 0, 0, 0]}, 'input_shape': [[1, 224, 224, 3]]}, 'outbounds': ['conv1.relu.relu/Relu']}, 'conv1.relu.relu/Relu': {'inbounds': ['conv1.conv/Conv2D'], 'attr': {'name': 'conv1.relu.relu/Relu', 'type': 'Relu', 'output_shape': [[1, 56, 56, 63]], 'attr': {}, 'input_shape': [[1, 56, 56, 63]]}, 'outbounds': ['conv1.maxpool/maxpool']}, 'conv1.maxpool/maxpool': {'inbounds': ['conv1.relu.relu/Relu'], 'attr': {'name': 'conv1.maxpool/maxpool', 'type': 'MaxPool', 'output_shape': [[1, 28, 28, 63]], 'attr': {'strides': [2, 2], 'data_format': 'NHWC', 'ksize': [3, 3], 'padding': 'SAME', 'pads': [0, 1, 0, 1]}, 'input_shape': [[1, 56, 56, 63]]}, 'outbounds': ['conv2.conv/Conv2D']}, 'conv2.conv/Conv2D': {'inbounds': ['conv1.maxpool/maxpool'], 'attr': {'name': 'conv2.conv/Conv2D', 'type': 'Conv2D', 'output_shape': [[1, 28, 28, 38]], 'attr': {'padding': 'SAME', 'dilations': [1, 1], 'strides': [1, 1], 'data_format': 'NHWC', 'kernel_shape': [1, 1], 'weight_shape': [1, 1, 63, 38], 'pads': [0, 0, 0, 0]}, 'input_shape': [[1, 28, 28, 63]]}, 'outbounds': ['conv2.relu.relu/Relu']}, 'conv2.relu.relu/Relu': {'inbounds': ['conv2.conv/Conv2D'], 'attr': {'name': 'conv2.relu.relu/Relu', 'type': 'Relu', 'output_shape': [[1, 28, 28, 38]], 'attr': {}, 'input_shape': [[1, 28, 28, 38]]}, 'outbounds': ['conv2.maxpool/maxpool']}, 'conv2.maxpool/maxpool': {'inbounds': ['conv2.relu.relu/Relu'], 'attr': {'name': 'conv2.maxpool/maxpool', 'type': 'MaxPool', 'output_shape': [[1, 13, 13, 38]], 'attr': {'ksize': [3, 3], 'padding': 'VALID', 'strides': [2, 2], 'data_format': 'NHWC', 'pads': [0, 0, 0, 0]}, 'input_shape': [[1, 28, 28, 38]]}, 'outbounds': ['conv3.conv/Conv2D']}, 'conv3.conv/Conv2D': {'inbounds': ['conv2.maxpool/maxpool'], 'attr': {'name': 'conv3.conv/Conv2D', 'type': 'Conv2D', 'output_shape': [[1, 13, 13, 652]], 'attr': {'dilations': [1, 1], 'strides': [1, 1], 'data_format': 'NHWC', 'padding': 'SAME', 'kernel_shape': [3, 3], 'weight_shape': [3, 3, 38, 652], 'pads': [0, 0, 0, 0]}, 'input_shape': [[1, 13, 13, 38]]}, 'outbounds': ['conv3.relu.relu/Relu']}, 'conv3.relu.relu/Relu': {'inbounds': ['conv3.conv/Conv2D'], 'attr': {'name': 'conv3.relu.relu/Relu', 'type': 'Relu', 'output_shape': [[1, 13, 13, 652]], 'attr': {}, 'input_shape': [[1, 13, 13, 652]]}, 'outbounds': ['conv4.conv/Conv2D']}, 'conv4.conv/Conv2D': {'inbounds': ['conv3.relu.relu/Relu'], 'attr': {'name': 'conv4.conv/Conv2D', 'type': 'Conv2D', 'output_shape': [[1, 13, 13, 204]], 'attr': {'dilations': [1, 1], 'strides': [1, 1], 'data_format': 'NHWC', 'padding': 'SAME', 'kernel_shape': [7, 7], 'weight_shape': [7, 7, 652, 204], 'pads': [0, 0, 0, 0]}, 'input_shape': [[1, 13, 13, 652]]}, 'outbounds': ['conv4.relu.relu/Relu']}, 'conv4.relu.relu/Relu': {'inbounds': ['conv4.conv/Conv2D'], 'attr': {'name': 'conv4.relu.relu/Relu', 'type': 'Relu', 'output_shape': [[1, 13, 13, 204]], 'attr': {}, 'input_shape': [[1, 13, 13, 204]]}, 'outbounds': ['conv5.conv/Conv2D']}, 'conv5.conv/Conv2D': {'inbounds': ['conv4.relu.relu/Relu'], 'attr': {'name': 'conv5.conv/Conv2D', 'type': 'Conv2D', 'output_shape': [[1, 13, 13, 179]], 'attr': {'padding': 'SAME', 'dilations': [1, 1], 'strides': [1, 1], 'data_format': 'NHWC', 'kernel_shape': [3, 3], 'weight_shape': [3, 3, 204, 179], 'pads': [0, 0, 0, 0]}, 'input_shape': [[1, 13, 13, 204]]}, 'outbounds': ['conv5.relu.relu/Relu']}, 'conv5.relu.relu/Relu': {'inbounds': ['conv5.conv/Conv2D'], 'attr': {'name': 'conv5.relu.relu/Relu', 'type': 'Relu', 'output_shape': [[1, 13, 13, 179]], 'attr': {}, 'input_shape': [[1, 13, 13, 179]]}, 'outbounds': ['conv5.maxpool/maxpool']}, 'conv5.maxpool/maxpool': {'inbounds': ['conv5.relu.relu/Relu'], 'attr': {'name': 'conv5.maxpool/maxpool', 'type': 'MaxPool', 'output_shape': [[1, 179]], 'attr': {'padding': 'VALID', 'strides': [2, 2], 'data_format': 'NHWC', 'ksize': [3, 3], 'pads': [0, 0, 0, 0]}, 'input_shape': [[1, 13, 13, 179]]}, 'outbounds': ['Mean']}, 'Mean': {'inbounds': ['conv5.maxpool/maxpool'], 'attr': {'name': 'Mean', 'type': 'Mean', 'output_shape': [[1, 179]], 'attr': {'reduction_indices': [1, 2]}, 'input_shape': [[1, 179]]}, 'outbounds': ['Reshape']}, 'Reshape': {'inbounds': ['Mean'], 'attr': {'name': 'Reshape', 'type': 'Reshape', 'output_shape': [[-1, 179]], 'attr': {'shape': [-1, 179]}, 'input_shape': [[1, 179]]}, 'outbounds': ['fc1.fc/MatMul']}, 'fc1.fc/MatMul': {'inbounds': ['Reshape'], 'attr': {'name': 'fc1.fc/MatMul', 'type': 'MatMul', 'output_shape': [[-1, 2867]], 'attr': {}, 'input_shape': [[-1, 179]]}, 'outbounds': ['fc1.relu.relu/Relu']}, 'fc1.relu.relu/Relu': {'inbounds': ['fc1.fc/MatMul'], 'attr': {'name': 'fc1.relu.relu/Relu', 'type': 'Relu', 'output_shape': [[-1, 2867]], 'attr': {}, 'input_shape': [[-1, 2867]]}, 'outbounds': ['fc2.fc/MatMul']}, 'fc2.fc/MatMul': {'inbounds': ['fc1.relu.relu/Relu'], 'attr': {'name': 'fc2.fc/MatMul', 'type': 'MatMul', 'output_shape': [[-1, 4505]], 'attr': {}, 'input_shape': [[-1, 2867]]}, 'outbounds': ['fc2.relu.relu/Relu']}, 'fc2.relu.relu/Relu': {'inbounds': ['fc2.fc/MatMul'], 'attr': {'name': 'fc2.relu.relu/Relu', 'type': 'Relu', 'output_shape': [[-1, 4505]], 'attr': {}, 'input_shape': [[-1, 4505]]}, 'outbounds': ['fc3.fc/MatMul']}, 'fc3.fc/MatMul': {'inbounds': ['fc2.relu.relu/Relu'], 'attr': {'name': 'fc3.fc/MatMul', 'type': 'MatMul', 'output_shape': [[-1, 1000]], 'attr': {}, 'input_shape': [[-1, 4505]]}, 'outbounds': []}}\n"
     ]
    }
   ],
   "metadata": {}
  },
  {
   "cell_type": "code",
   "execution_count": null,
   "source": [
    "# list all supporting latency predictors\n",
    "predictors = nn_meter.list_latency_predictors()\n",
    "for p in predictors:\n",
    "    print(f\"[Predictor] {p['name']}: version={p['version']}\")"
   ],
   "outputs": [
    {
     "output_type": "stream",
     "name": "stdout",
     "text": [
      "[Predictor] cortexA76cpu_tflite21: version=1.0\n",
      "[Predictor] adreno640gpu_tflite21: version=1.0\n",
      "[Predictor] adreno630gpu_tflite21: version=1.0\n",
      "[Predictor] myriadvpu_openvino2019r2: version=1.0\n"
     ]
    }
   ],
   "metadata": {}
  },
  {
   "cell_type": "code",
   "execution_count": null,
   "source": [
    "# specify basic predictor\n",
    "predictor_name = 'adreno640gpu_tflite21' # user can change text here to test other predictors\n",
    "predictor_version = 1.0\n",
    "\n",
    "import warnings\n",
    "warnings.filterwarnings('ignore')"
   ],
   "outputs": [],
   "metadata": {}
  },
  {
   "cell_type": "code",
   "execution_count": null,
   "source": [
    "import jsonlines\n",
    "import nn_meter\n",
    "\n",
    "# load predictor\n",
    "predictor = nn_meter.load_latency_predictor(predictor_name, predictor_version)\n",
    "\n",
    "# view latency prediction demo in one model group of the dataset \n",
    "test_data = datasets[0]\n",
    "with jsonlines.open(test_data) as data_reader:\n",
    "    True_lat = []\n",
    "    Pred_lat = []\n",
    "    for i, item in enumerate(data_reader):\n",
    "        if i >= 20: # only show the first 20 results to save space\n",
    "            break\n",
    "        graph = item[\"graph\"]\n",
    "        pred_lat = predictor.predict(graph, model_type=\"nnmeter-ir\")\n",
    "        real_lat = item[predictor_name]\n",
    "        print(f'[RESULT] {os.path.basename(test_data)}[{i}]: predict: {pred_lat}, real: {real_lat}')\n",
    "\n",
    "        if real_lat != None:\n",
    "            True_lat.append(real_lat)\n",
    "            Pred_lat.append(pred_lat)\n",
    "\n",
    "if len(True_lat) > 0:\n",
    "    rmse, rmspe, error, acc5, acc10, _ = nn_meter.latency_metrics(Pred_lat, True_lat)\n",
    "    print(\n",
    "        f'[SUMMARY] The first 20 cases from {os.path.basename(test_data)} on {predictor_name}: rmse: {rmse}, 5%accuracy: {acc5}, 10%accuracy: {acc10}'\n",
    "    )\n",
    "        "
   ],
   "outputs": [
    {
     "output_type": "stream",
     "name": "stdout",
     "text": [
      "[Result] alexnets.jsonl[0]: predict: 23.447085575244774, real: 24.4851\n",
      "[Result] alexnets.jsonl[1]: predict: 23.88567577635713, real: 23.9185\n",
      "[Result] alexnets.jsonl[2]: predict: 29.586297830632216, real: 30.3052\n",
      "[Result] alexnets.jsonl[3]: predict: 51.12333226388625, real: 52.089\n",
      "[Result] alexnets.jsonl[4]: predict: 4.937166470494069, real: 5.26442\n",
      "[Result] alexnets.jsonl[5]: predict: 14.996201148770353, real: 15.2265\n",
      "[Result] alexnets.jsonl[6]: predict: 9.262593840400985, real: 9.12046\n",
      "[Result] alexnets.jsonl[7]: predict: 13.912859618198581, real: 14.2242\n",
      "[Result] alexnets.jsonl[8]: predict: 15.02293612116675, real: 15.2457\n",
      "[Result] alexnets.jsonl[9]: predict: 12.443609556620194, real: 12.5989\n",
      "[Result] alexnets.jsonl[10]: predict: 15.971239887611212, real: 15.185\n",
      "[Result] alexnets.jsonl[11]: predict: 19.46934719077786, real: 20.1434\n",
      "[Result] alexnets.jsonl[12]: predict: 12.58047633556376, real: 14.4818\n",
      "[Result] alexnets.jsonl[13]: predict: 18.514081238237033, real: 19.0136\n",
      "[Result] alexnets.jsonl[14]: predict: 7.330729281187615, real: 7.7855\n",
      "[Result] alexnets.jsonl[15]: predict: 14.86018561710669, real: 15.7775\n",
      "[Result] alexnets.jsonl[16]: predict: 15.788781165175772, real: 16.0765\n",
      "[Result] alexnets.jsonl[17]: predict: 35.331315161111945, real: 35.7741\n",
      "[Result] alexnets.jsonl[18]: predict: 12.409197810645445, real: 12.4725\n",
      "[Result] alexnets.jsonl[19]: predict: 37.08473259556314, real: 36.4975\n",
      "[Summary] The first 20 cases from alexnets.jsonl on adreno640gpu_tflite21: rmse: 0.6889098264185176, 5%accuracy: 0.75, 10%accuracy: 0.95\n"
     ]
    }
   ],
   "metadata": {}
  },
  {
   "cell_type": "code",
   "execution_count": null,
   "source": [
    "# apply nn-Meter prediction for all data\n",
    "for filename in datasets:\n",
    "    print(f'Start testing {os.path.basename(filename)} ...')\n",
    "    True_lat = []\n",
    "    Pred_lat = []\n",
    "    with jsonlines.open(filename) as data_reader:\n",
    "        for item in data_reader:\n",
    "            graph = item[\"graph\"]\n",
    "            pred_lat = predictor.predict(graph, model_type=\"nnmeter-ir\")\n",
    "            real_lat = item[predictor_name]\n",
    "            if real_lat != None:\n",
    "                True_lat.append(real_lat)\n",
    "                Pred_lat.append(pred_lat)\n",
    "    if len(True_lat) > 0:\n",
    "        rmse, rmspe, error, acc5, acc10, _ = nn_meter.latency_metrics(Pred_lat, True_lat)\n",
    "        print(\n",
    "            f'{filename} on {predictor_name}: rmse: {rmse}, 5%accuracy: {acc5}, 10%accuracy: {acc10}'\n",
    "        )"
   ],
   "outputs": [],
   "metadata": {}
  }
 ],
 "metadata": {
  "orig_nbformat": 4,
  "language_info": {
   "name": "python",
   "version": "3.7.0",
   "mimetype": "text/x-python",
   "codemirror_mode": {
    "name": "ipython",
    "version": 3
   },
   "pygments_lexer": "ipython3",
   "nbconvert_exporter": "python",
   "file_extension": ".py"
  },
  "kernelspec": {
   "name": "python3",
   "display_name": "Python 3.7.0 64-bit ('base': conda)"
  },
  "interpreter": {
   "hash": "b3811cfe9514b94bb43393670d799a920a944b80621828d58e6c74cdf25fb668"
  }
 },
 "nbformat": 4,
 "nbformat_minor": 2
}