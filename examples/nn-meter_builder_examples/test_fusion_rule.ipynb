{
 "cells": [
  {
   "cell_type": "markdown",
   "metadata": {},
   "source": [
    "# Build Fusion Rule Tester\n",
    "Users could refer to the [Guidance](../../docs/builder/test_fusion_rules.md) for details information."
   ]
  },
  {
   "cell_type": "code",
   "execution_count": 1,
   "metadata": {},
   "outputs": [],
   "source": [
    "import warnings\n",
    "from silence_tensorflow import silence_tensorflow\n",
    "warnings.filterwarnings('ignore')\n",
    "silence_tensorflow()"
   ]
  },
  {
   "cell_type": "markdown",
   "metadata": {},
   "source": [
    "The first step to run fusion rule tester is to prepare a backends and create a workspace for experiment. Users could create a workspace folder by running the following command:\n",
    "\n",
    "``` Bash\n",
    "# for TFLite platform\n",
    "nn-meter create --tflite-workspace <path/to/place/workspace/>\n",
    "\n",
    "# for OpenVINO platform\n",
    "nn-meter create --openvino-workspace <path/to/place/workspace/>\n",
    "\n",
    "# for customized platform\n",
    "nn-meter create --customized-workspace <backend-name> <path/to/place/workspace/>\n",
    "```\n",
    "\n",
    "After running the command, a workspace folder will be created and two yaml files named `backend_config.yaml`, `ruletest_config.yaml`, and `predictorbuild_config.yaml`, i.e., configuration file for backend, fusion_rule_tester, and predictor builder respectively, will be placed in `<workspace-path>/configs/`. Users could edit the content to change configuration. The config will take effect after the the config file is saved and closed.\n",
    "\n",
    "After creating the workspace and completing configuration, users could initialize workspace in `builder_config` module for experiments:"
   ]
  },
  {
   "cell_type": "code",
   "execution_count": 2,
   "metadata": {},
   "outputs": [],
   "source": [
    "# initialize workspace in code\n",
    "workspace_path = \"/path/to/workspace/\" # text the path to the workspace folder. refer to ./backend.md for further information.\n",
    "from nn_meter.builder import builder_config\n",
    "builder_config.init(workspace_path)"
   ]
  },
  {
   "cell_type": "markdown",
   "metadata": {},
   "source": [
    "After creating the workspace, a yaml file named `ruletest_config.yaml` will be placed in `<workspace-path>/configs/`. Users could open `<workspace-path>/configs/ruletest_config.yaml` and edit the content. The config will take effect after the the config file is saved and closed.\n",
    "\n",
    "Following configuration from `<workspace-path>/configs/ruletest_config.yaml`, the test cases can be created by running:"
   ]
  },
  {
   "cell_type": "code",
   "execution_count": 3,
   "metadata": {},
   "outputs": [
    {
     "name": "stderr",
     "output_type": "stream",
     "text": [
      "WARNING:absl:Found untraced functions such as conv2d_8_layer_call_fn, conv2d_8_layer_call_and_return_conditional_losses, conv2d_9_layer_call_fn, conv2d_9_layer_call_and_return_conditional_losses, conv2d_8_layer_call_fn while saving (showing 5 of 10). These functions will not be directly callable after loading.\n",
      "WARNING:absl:Found untraced functions such as conv2d_8_layer_call_fn, conv2d_8_layer_call_and_return_conditional_losses, conv2d_9_layer_call_fn, conv2d_9_layer_call_and_return_conditional_losses, conv2d_8_layer_call_fn while saving (showing 5 of 10). These functions will not be directly callable after loading.\n"
     ]
    }
   ],
   "source": [
    "# generate testcases\n",
    "from nn_meter.builder.backend_meta.fusion_rule_tester import generate_testcases\n",
    "origin_testcases = generate_testcases()"
   ]
  },
  {
   "cell_type": "markdown",
   "metadata": {},
   "source": [
    "The test case models will be saved in `<workspace-path>/ruletest_testcases/`, and the test case dictionary will be saved in `<workspace-path>/results/origin_testcases.json`. \n",
    "\n",
    "If the test cases has been created before, users could directly use the generated json file of test cases to avoid creating test cases again:"
   ]
  },
  {
   "cell_type": "code",
   "execution_count": 4,
   "metadata": {},
   "outputs": [],
   "source": [
    "import os\n",
    "origin_testcases = os.path.join(workspace_path, \"fusion_rule_test\", \"results\", \"origin_testcases.json\")"
   ]
  },
  {
   "cell_type": "markdown",
   "metadata": {},
   "source": [
    "Next step is to run and profile test cases on the backend. Given required backend, users could run test cases model and get profiled latency value by running:"
   ]
  },
  {
   "cell_type": "code",
   "execution_count": 5,
   "metadata": {},
   "outputs": [
    {
     "name": "stdout",
     "output_type": "stream",
     "text": [
      "(nn-Meter) Profiling ...\n"
     ]
    },
    {
     "name": "stderr",
     "output_type": "stream",
     "text": [
      "WARNING:absl:Found untraced functions such as conv2d_layer_call_fn, conv2d_layer_call_and_return_conditional_losses, conv2d_layer_call_fn, conv2d_layer_call_and_return_conditional_losses, conv2d_layer_call_and_return_conditional_losses while saving (showing 5 of 5). These functions will not be directly callable after loading.\n",
      "WARNING:absl:Found untraced functions such as conv2d_1_layer_call_fn, conv2d_1_layer_call_and_return_conditional_losses, conv2d_1_layer_call_fn, conv2d_1_layer_call_and_return_conditional_losses, conv2d_1_layer_call_and_return_conditional_losses while saving (showing 5 of 5). These functions will not be directly callable after loading.\n",
      "WARNING:absl:Found untraced functions such as conv2d_layer_call_fn, conv2d_layer_call_and_return_conditional_losses, conv2d_1_layer_call_fn, conv2d_1_layer_call_and_return_conditional_losses, conv2d_layer_call_fn while saving (showing 5 of 10). These functions will not be directly callable after loading.\n",
      "WARNING:absl:Found untraced functions such as conv2d_2_layer_call_fn, conv2d_2_layer_call_and_return_conditional_losses, conv2d_2_layer_call_fn, conv2d_2_layer_call_and_return_conditional_losses, conv2d_2_layer_call_and_return_conditional_losses while saving (showing 5 of 5). These functions will not be directly callable after loading.\n",
      "WARNING:absl:Found untraced functions such as conv2d_2_layer_call_fn, conv2d_2_layer_call_and_return_conditional_losses, conv2d_2_layer_call_fn, conv2d_2_layer_call_and_return_conditional_losses, conv2d_2_layer_call_and_return_conditional_losses while saving (showing 5 of 5). These functions will not be directly callable after loading.\n",
      "WARNING:absl:Found untraced functions such as conv2d_3_layer_call_fn, conv2d_3_layer_call_and_return_conditional_losses, conv2d_3_layer_call_fn, conv2d_3_layer_call_and_return_conditional_losses, conv2d_3_layer_call_and_return_conditional_losses while saving (showing 5 of 5). These functions will not be directly callable after loading.\n",
      "WARNING:absl:Found untraced functions such as conv2d_3_layer_call_fn, conv2d_3_layer_call_and_return_conditional_losses, conv2d_3_layer_call_fn, conv2d_3_layer_call_and_return_conditional_losses, conv2d_3_layer_call_and_return_conditional_losses while saving (showing 5 of 5). These functions will not be directly callable after loading.\n",
      "WARNING:absl:Found untraced functions such as conv2d_4_layer_call_fn, conv2d_4_layer_call_and_return_conditional_losses, conv2d_4_layer_call_fn, conv2d_4_layer_call_and_return_conditional_losses, conv2d_4_layer_call_and_return_conditional_losses while saving (showing 5 of 5). These functions will not be directly callable after loading.\n",
      "WARNING:absl:Found untraced functions such as conv2d_4_layer_call_fn, conv2d_4_layer_call_and_return_conditional_losses, conv2d_4_layer_call_fn, conv2d_4_layer_call_and_return_conditional_losses, conv2d_4_layer_call_and_return_conditional_losses while saving (showing 5 of 5). These functions will not be directly callable after loading.\n",
      "WARNING:absl:Found untraced functions such as conv2d_5_layer_call_fn, conv2d_5_layer_call_and_return_conditional_losses, conv2d_5_layer_call_fn, conv2d_5_layer_call_and_return_conditional_losses, conv2d_5_layer_call_and_return_conditional_losses while saving (showing 5 of 5). These functions will not be directly callable after loading.\n",
      "WARNING:absl:Found untraced functions such as re_lu_2_layer_call_fn, re_lu_2_layer_call_and_return_conditional_losses, re_lu_2_layer_call_fn, re_lu_2_layer_call_and_return_conditional_losses, re_lu_2_layer_call_and_return_conditional_losses while saving (showing 5 of 5). These functions will not be directly callable after loading.\n",
      "WARNING:absl:Found untraced functions such as conv2d_5_layer_call_fn, conv2d_5_layer_call_and_return_conditional_losses, re_lu_2_layer_call_fn, re_lu_2_layer_call_and_return_conditional_losses, conv2d_5_layer_call_fn while saving (showing 5 of 10). These functions will not be directly callable after loading.\n",
      "WARNING:absl:Found untraced functions such as conv2d_6_layer_call_fn, conv2d_6_layer_call_and_return_conditional_losses, conv2d_6_layer_call_fn, conv2d_6_layer_call_and_return_conditional_losses, conv2d_6_layer_call_and_return_conditional_losses while saving (showing 5 of 5). These functions will not be directly callable after loading.\n",
      "WARNING:absl:Found untraced functions such as conv2d_6_layer_call_fn, conv2d_6_layer_call_and_return_conditional_losses, conv2d_6_layer_call_fn, conv2d_6_layer_call_and_return_conditional_losses, conv2d_6_layer_call_and_return_conditional_losses while saving (showing 5 of 5). These functions will not be directly callable after loading.\n",
      "WARNING:absl:Found untraced functions such as conv2d_7_layer_call_fn, conv2d_7_layer_call_and_return_conditional_losses, conv2d_7_layer_call_fn, conv2d_7_layer_call_and_return_conditional_losses, conv2d_7_layer_call_and_return_conditional_losses while saving (showing 5 of 5). These functions will not be directly callable after loading.\n",
      "WARNING:absl:Found untraced functions such as conv2d_8_layer_call_fn, conv2d_8_layer_call_and_return_conditional_losses, conv2d_9_layer_call_fn, conv2d_9_layer_call_and_return_conditional_losses, conv2d_8_layer_call_fn while saving (showing 5 of 10). These functions will not be directly callable after loading.\n",
      "WARNING:absl:Found untraced functions such as conv2d_7_layer_call_fn, conv2d_7_layer_call_and_return_conditional_losses, conv2d_7_layer_call_fn, conv2d_7_layer_call_and_return_conditional_losses, conv2d_7_layer_call_and_return_conditional_losses while saving (showing 5 of 15). These functions will not be directly callable after loading.\n",
      "WARNING:absl:Function `_wrapped_model` contains input name(s) inputs/0, inputs/1 with unsupported characters which will be renamed to inputs_0, inputs_1 in the SavedModel.\n",
      "WARNING:absl:Found untraced functions such as add_layer_call_fn, add_layer_call_and_return_conditional_losses, add_layer_call_fn, add_layer_call_and_return_conditional_losses, add_layer_call_and_return_conditional_losses while saving (showing 5 of 5). These functions will not be directly callable after loading.\n",
      "WARNING:absl:Function `_wrapped_model` contains input name(s) inputs/0, inputs/1 with unsupported characters which will be renamed to inputs_0, inputs_1 in the SavedModel.\n",
      "WARNING:absl:Found untraced functions such as add_layer_call_fn, add_layer_call_and_return_conditional_losses, add_layer_call_fn, add_layer_call_and_return_conditional_losses, add_layer_call_and_return_conditional_losses while saving (showing 5 of 5). These functions will not be directly callable after loading.\n",
      "WARNING:absl:Function `_wrapped_model` contains input name(s) inputs/0, inputs/1 with unsupported characters which will be renamed to inputs_0, inputs_1 in the SavedModel.\n",
      "WARNING:absl:Found untraced functions such as concatenate_layer_call_fn, concatenate_layer_call_and_return_conditional_losses, concatenate_layer_call_fn, concatenate_layer_call_and_return_conditional_losses, concatenate_layer_call_and_return_conditional_losses while saving (showing 5 of 5). These functions will not be directly callable after loading.\n",
      "WARNING:absl:Function `_wrapped_model` contains input name(s) inputs/0, inputs/1 with unsupported characters which will be renamed to inputs_0, inputs_1 in the SavedModel.\n",
      "WARNING:absl:Found untraced functions such as concatenate_layer_call_fn, concatenate_layer_call_and_return_conditional_losses, concatenate_layer_call_fn, concatenate_layer_call_and_return_conditional_losses, concatenate_layer_call_and_return_conditional_losses while saving (showing 5 of 5). These functions will not be directly callable after loading.\n",
      "WARNING:absl:Found untraced functions such as conv2d_10_layer_call_fn, conv2d_10_layer_call_and_return_conditional_losses, conv2d_10_layer_call_fn, conv2d_10_layer_call_and_return_conditional_losses, conv2d_10_layer_call_and_return_conditional_losses while saving (showing 5 of 5). These functions will not be directly callable after loading.\n"
     ]
    }
   ],
   "source": [
    "# connect to backend\n",
    "from nn_meter.builder.backends import connect_backend\n",
    "backend = connect_backend(backend_name='tflite_cpu')\n",
    "\n",
    "# run testcases and collect profiling results\n",
    "from nn_meter.builder import profile_models\n",
    "profiled_results = profile_models(backend, origin_testcases, mode='ruletest')\n"
   ]
  },
  {
   "cell_type": "markdown",
   "metadata": {},
   "source": [
    "`backend` refers to the framework of the platform and device to execute the model. Currently we provide three instance on two platforms, i.e., CPU backend, GPU backend with TFLite platform, and VPU backend with OpenVINO platform. Refer to [backend guidance](../docs/builder/backend.md) for how to setup the device and get connection to the backend.\n",
    "\n",
    "In case having run test cases before, user could also use test case json file to avoid running test cases again:"
   ]
  },
  {
   "cell_type": "code",
   "execution_count": 6,
   "metadata": {},
   "outputs": [],
   "source": [
    "profiled_results = os.path.join(workspace_path, \"fusion_rule_test\", \"results\", \"profiled_results.json\")"
   ]
  },
  {
   "cell_type": "markdown",
   "metadata": {},
   "source": [
    "Finally, users could detect the fusion rule according to profiled test cases by running the following code. After running `detect_fusion_rule`, a json file named `<workspace-path>/results/detected_testcases.json` will be created as the detection result. The result shows each test case obeys the fusion rule or not."
   ]
  },
  {
   "cell_type": "code",
   "execution_count": 7,
   "metadata": {},
   "outputs": [],
   "source": [
    "# determine fusion rules from profiling results\n",
    "from nn_meter.builder.backend_meta.fusion_rule_tester import detect_fusion_rule\n",
    "detected_results = detect_fusion_rule(profiled_results)"
   ]
  },
  {
   "cell_type": "code",
   "execution_count": 8,
   "metadata": {},
   "outputs": [
    {
     "name": "stdout",
     "output_type": "stream",
     "text": [
      "For block [BF_se_relu], the kernel fusion is detected as [True]\n",
      "For block [BF_reshape_reshape], the kernel fusion is detected as [True]\n",
      "For block [BF_reshape_relu], the kernel fusion is detected as [False]\n",
      "For block [BF_reshape_dwconv], the kernel fusion is detected as [False]\n",
      "For block [BF_reshape_convtrans], the kernel fusion is detected as [False]\n",
      "For block [BF_reshape_conv], the kernel fusion is detected as [False]\n",
      "For block [BF_reshape_concat], the kernel fusion is detected as [False]\n",
      "For block [BF_reshape_avgpool], the kernel fusion is detected as [False]\n",
      "For block [BF_reshape_add], the kernel fusion is detected as [False]\n",
      "For block [BF_relu_reshape], the kernel fusion is detected as [False]\n",
      "For block [BF_relu_relu], the kernel fusion is detected as [True]\n",
      "For block [BF_relu_dwconv], the kernel fusion is detected as [False]\n",
      "For block [BF_relu_dense], the kernel fusion is detected as [True]\n",
      "For block [BF_relu_convtrans], the kernel fusion is detected as [False]\n",
      "For block [BF_relu_conv], the kernel fusion is detected as [True]\n",
      "For block [BF_relu_concat], the kernel fusion is detected as [False]\n",
      "For block [BF_relu_avgpool], the kernel fusion is detected as [False]\n",
      "For block [BF_relu_add], the kernel fusion is detected as [False]\n",
      "For block [BF_dwconv_reshape], the kernel fusion is detected as [False]\n",
      "For block [BF_dwconv_relu], the kernel fusion is detected as [True]\n",
      "For block [MON], the kernel fusion is detected as [case1]\n",
      "For block [RT], the kernel fusion is detected as [False]\n",
      "For block [BF_dwconv_dwconv], the kernel fusion is detected as [False]\n",
      "For block [BF_dwconv_convtrans], the kernel fusion is detected as [False]\n",
      "For block [BF_dwconv_conv], the kernel fusion is detected as [False]\n",
      "For block [BF_dwconv_concat], the kernel fusion is detected as [False]\n",
      "For block [BF_dwconv_avgpool], the kernel fusion is detected as [False]\n",
      "For block [BF_dwconv_add], the kernel fusion is detected as [False]\n",
      "For block [BF_dense_relu], the kernel fusion is detected as [True]\n",
      "For block [BF_dense_dense], the kernel fusion is detected as [False]\n",
      "For block [BF_dense_concat], the kernel fusion is detected as [False]\n",
      "For block [BF_dense_add], the kernel fusion is detected as [False]\n",
      "For block [BF_convtrans_reshape], the kernel fusion is detected as [False]\n",
      "For block [BF_convtrans_relu], the kernel fusion is detected as [False]\n",
      "For block [BF_convtrans_dwconv], the kernel fusion is detected as [False]\n",
      "For block [BF_convtrans_convtrans], the kernel fusion is detected as [False]\n",
      "For block [BF_convtrans_conv], the kernel fusion is detected as [False]\n",
      "For block [BF_convtrans_concat], the kernel fusion is detected as [False]\n",
      "For block [BF_convtrans_avgpool], the kernel fusion is detected as [False]\n",
      "For block [BF_convtrans_add], the kernel fusion is detected as [False]\n",
      "For block [BF_conv_se], the kernel fusion is detected as [True]\n",
      "For block [BF_conv_reshape], the kernel fusion is detected as [True]\n",
      "For block [BF_conv_relu], the kernel fusion is detected as [False]\n",
      "For block [BF_conv_hswish], the kernel fusion is detected as [False]\n",
      "For block [BF_conv_dwconv], the kernel fusion is detected as [True]\n",
      "For block [BF_conv_convtrans], the kernel fusion is detected as [False]\n",
      "For block [BF_conv_conv], the kernel fusion is detected as [False]\n",
      "For block [BF_conv_concat], the kernel fusion is detected as [False]\n",
      "For block [BF_conv_avgpool], the kernel fusion is detected as [True]\n",
      "For block [BF_conv_add], the kernel fusion is detected as [True]\n",
      "For block [BF_concat_reshape], the kernel fusion is detected as [False]\n",
      "For block [BF_concat_relu], the kernel fusion is detected as [False]\n",
      "For block [BF_concat_dwconv], the kernel fusion is detected as [False]\n",
      "For block [BF_concat_dense], the kernel fusion is detected as [True]\n",
      "For block [BF_concat_convtrans], the kernel fusion is detected as [False]\n",
      "For block [BF_concat_conv], the kernel fusion is detected as [False]\n",
      "For block [BF_concat_concat], the kernel fusion is detected as [False]\n",
      "For block [BF_concat_avgpool], the kernel fusion is detected as [False]\n",
      "For block [BF_concat_add], the kernel fusion is detected as [False]\n",
      "For block [BF_avgpool_reshape], the kernel fusion is detected as [False]\n",
      "For block [BF_avgpool_relu], the kernel fusion is detected as [True]\n",
      "For block [BF_avgpool_dwconv], the kernel fusion is detected as [False]\n",
      "For block [BF_avgpool_convtrans], the kernel fusion is detected as [False]\n",
      "For block [BF_avgpool_conv], the kernel fusion is detected as [False]\n",
      "For block [BF_avgpool_concat], the kernel fusion is detected as [False]\n",
      "For block [BF_avgpool_avgpool], the kernel fusion is detected as [False]\n",
      "For block [BF_avgpool_add], the kernel fusion is detected as [False]\n",
      "For block [BF_add_reshape], the kernel fusion is detected as [False]\n",
      "For block [BF_add_relu], the kernel fusion is detected as [True]\n",
      "For block [BF_add_dwconv], the kernel fusion is detected as [False]\n",
      "For block [BF_add_dense], the kernel fusion is detected as [False]\n",
      "For block [BF_add_convtrans], the kernel fusion is detected as [False]\n",
      "For block [BF_add_conv], the kernel fusion is detected as [True]\n",
      "For block [BF_add_concat], the kernel fusion is detected as [False]\n",
      "For block [BF_add_avgpool], the kernel fusion is detected as [False]\n",
      "For block [BF_add_add], the kernel fusion is detected as [False]\n"
     ]
    }
   ],
   "source": [
    "# show results\n",
    "for k, v in detected_results.items():\n",
    "    print(f\"For block [{k}], the kernel fusion is detected as [{v['obey']}]\")"
   ]
  }
 ],
 "metadata": {
  "kernelspec": {
   "display_name": "Python 3.8.13 ('trans')",
   "language": "python",
   "name": "python3"
  },
  "language_info": {
   "codemirror_mode": {
    "name": "ipython",
    "version": 3
   },
   "file_extension": ".py",
   "mimetype": "text/x-python",
   "name": "python",
   "nbconvert_exporter": "python",
   "pygments_lexer": "ipython3",
   "version": "3.8.13"
  },
  "orig_nbformat": 4,
  "vscode": {
   "interpreter": {
    "hash": "3e4490da19e6167cb6c7f36fb42a54586b5824152c7fa58ab9eba6ba33512076"
   }
  }
 },
 "nbformat": 4,
 "nbformat_minor": 2
}
